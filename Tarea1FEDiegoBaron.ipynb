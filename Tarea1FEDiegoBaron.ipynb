{
 "cells": [
  {
   "cell_type": "code",
   "execution_count": 19,
   "metadata": {},
   "outputs": [
    {
     "name": "stdout",
     "output_type": "stream",
     "text": [
      "Populating the interactive namespace from numpy and matplotlib\n"
     ]
    }
   ],
   "source": [
    "import random\n",
    "import numpy as np\n",
    "%pylab inline\n",
    "datos=[]\n",
    "x=0\n",
    "delta=0.5\n",
    "for k in range(1000000):\n",
    "    x_n=x+random.uniform(-delta,delta)\n",
    "    if random.uniform(0,1)< np.exp(-x_n**2/2)/np.exp(-x**2/2):\n",
    "        x=x_n\n",
    "    datos.append(x)\n"
   ]
  },
  {
   "cell_type": "code",
   "execution_count": null,
   "metadata": {},
   "outputs": [],
   "source": []
  },
  {
   "cell_type": "code",
   "execution_count": 22,
   "metadata": {},
   "outputs": [
    {
     "data": {
      "image/png": "[encoded data removed]",
      "text/plain": [
       "<matplotlib.figure.Figure at 0x7f9c8967fad0>"
      ]
     },
     "metadata": {},
     "output_type": "display_data"
    }
   ],
   "source": [
    "n_bins = 100\n",
    "\n",
    "x_wf=np.linspace(-4,4,500)\n",
    "y=(1/np.pi**0.5)*np.exp(-x_wf**2)\n",
    "\n",
    "histograma=plt.hist(datos, bins=n_bins,normed=True)\n",
    "wf=plt.plot(x_wf,y)\n",
    "# We can set the number of bins with the `bins` kwarg\n",
    "plt.show()\n"
   ]
  },
  {
   "cell_type": "code",
   "execution_count": null,
   "metadata": {
    "collapsed": true
   },
   "outputs": [],
   "source": []
  }
 ],
 "metadata": {
  "kernelspec": {
   "display_name": "Python 2",
   "language": "python",
   "name": "python2"
  },
  "language_info": {
   "codemirror_mode": {
    "name": "ipython",
    "version": 2
   },
   "file_extension": ".py",
   "mimetype": "text/x-python",
   "name": "python",
   "nbconvert_exporter": "python",
   "pygments_lexer": "ipython2",
   "version": "2.7.12"
  }
 },
 "nbformat": 4,
 "nbformat_minor": 2
}
