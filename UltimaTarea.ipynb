{
 "cells": [
  {
   "cell_type": "code",
   "execution_count": 95,
   "metadata": {},
   "outputs": [
    {
     "name": "stdout",
     "output_type": "stream",
     "text": [
      "Populating the interactive namespace from numpy and matplotlib\n"
     ]
    },
    {
     "data": {
      "image/png": "[encoded data removed]",
      "text/plain": [
       "<matplotlib.figure.Figure at 0x7f6613d3c050>"
      ]
     },
     "metadata": {},
     "output_type": "display_data"
    }
   ],
   "source": [
    "from functools import partial\n",
    "\n",
    "import numpy\n",
    "import scipy.optimize\n",
    "%pylab inline\n",
    "\n",
    "def z(x,y):\n",
    "    return y**4*((37*3.1415**2)/90+(x/y)**2+(1/(2*3.1415**2))*(x/y)**4)-442050625.0\n",
    "\n",
    "x_window = 0.1,320\n",
    "y_window = 0.1,120\n",
    "\n",
    "xs = []\n",
    "ys = []\n",
    "for x in numpy.linspace(*x_window, num=200):\n",
    "    try:\n",
    "        # A more efficient technique would use the last-found-y-value as a \n",
    "        # starting point\n",
    "        y = scipy.optimize.brentq(partial(z, x), *y_window)\n",
    "    except ValueError:\n",
    "        # Should we not be able to find a solution in this window.\n",
    "        pass\n",
    "    else:\n",
    "        xs.append(x)\n",
    "        ys.append(y)\n",
    "plt.rc('text', usetex=True)\n",
    "plt.rc('font', family='serif')\n",
    "\n",
    "fig = plt.figure()\n",
    "\n",
    "\n",
    "ax = fig.add_subplot(111)\n",
    "ax.plot(xs, ys)\n",
    "ax.text(150, 100, r'Quark-Gluon Plasma', fontsize=15)\n",
    "ax.text(110, 40, r'Hadron Gas', fontsize=15)\n",
    "plt.xlabel(r\"\\mu_c[MeV]\",fontsize=18)\n",
    "plt.ylabel(r\"T_c[MeV]\",fontsize=18)\n",
    "matplotlib.rcParams['figure.figsize'] = [14, 10]\n",
    "ax.axis([0, 320, 0, 120])\n",
    "savefig(\"Figura.pdf\")\n",
    "plt.show()\n"
   ]
  },
  {
   "cell_type": "markdown",
   "metadata": {},
   "source": [
    "# z(0,120)"
   ]
  },
  {
   "cell_type": "code",
   "execution_count": 42,
   "metadata": {},
   "outputs": [
    {
     "data": {
      "text/plain": [
       "9.0"
      ]
     },
     "execution_count": 42,
     "metadata": {},
     "output_type": "execute_result"
    }
   ],
   "source": [
    "3.0**2"
   ]
  },
  {
   "cell_type": "code",
   "execution_count": 43,
   "metadata": {},
   "outputs": [
    {
     "data": {
      "text/plain": [
       "0.4444444444444444"
      ]
     },
     "execution_count": 43,
     "metadata": {},
     "output_type": "execute_result"
    }
   ],
   "source": [
    "(2/3.0)**2"
   ]
  },
  {
   "cell_type": "code",
   "execution_count": null,
   "metadata": {},
   "outputs": [],
   "source": []
  }
 ],
 "metadata": {
  "kernelspec": {
   "display_name": "Python 2",
   "language": "python",
   "name": "python2"
  },
  "language_info": {
   "codemirror_mode": {
    "name": "ipython",
    "version": 2
   },
   "file_extension": ".py",
   "mimetype": "text/x-python",
   "name": "python",
   "nbconvert_exporter": "python",
   "pygments_lexer": "ipython2",
   "version": "2.7.12"
  }
 },
 "nbformat": 4,
 "nbformat_minor": 2
}
