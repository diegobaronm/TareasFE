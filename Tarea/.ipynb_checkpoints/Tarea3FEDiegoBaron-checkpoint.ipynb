{
 "cells": [
  {
   "cell_type": "code",
   "execution_count": 44,
   "metadata": {},
   "outputs": [
    {
     "name": "stdout",
     "output_type": "stream",
     "text": [
      "Populating the interactive namespace from numpy and matplotlib\n"
     ]
    },
    {
     "name": "stderr",
     "output_type": "stream",
     "text": [
      "/usr/local/lib/python2.7/dist-packages/IPython/core/magics/pylab.py:161: UserWarning: pylab import has clobbered these variables: ['f']\n",
      "`%matplotlib` prevents importing * from pylab and numpy\n",
      "  \"\\n`%matplotlib` prevents importing * from pylab and numpy\"\n"
     ]
    }
   ],
   "source": [
    "import numpy as np\n",
    "from time import time\n",
    "%pylab inline"
   ]
  },
  {
   "cell_type": "code",
   "execution_count": 6,
   "metadata": {
    "collapsed": true
   },
   "outputs": [],
   "source": [
    "def next_permutation(seq, pred=cmp): # RUTINA PARA GENERAR LAS PERMUTACIONES CON REPETICION\n",
    "    \"\"\"Like C++ std::next_permutation() but implemented as\n",
    "    generator. Yields copies of seq.\"\"\"\n",
    "    def reverse(seq, start, end):\n",
    "        # seq = seq[:start] + reversed(seq[start:end]) + \\\n",
    "        #       seq[end:]\n",
    "        end -= 1\n",
    "        if end <= start:\n",
    "            return\n",
    "        while True:\n",
    "            seq[start], seq[end] = seq[end], seq[start]\n",
    "            if start == end or start+1 == end:\n",
    "                return\n",
    "            start += 1\n",
    "            end -= 1\n",
    "    if not seq:\n",
    "        raise StopIteration\n",
    "    try:\n",
    "        seq[0]\n",
    "    except TypeError:\n",
    "        raise TypeError(\"seq must allow random access.\")\n",
    "    first = 0\n",
    "    last = len(seq)\n",
    "    seq = seq[:]\n",
    "    # Yield input sequence as the STL version is often\n",
    "    # used inside do {} while.\n",
    "    yield seq[:]\n",
    "    if last == 1:\n",
    "        raise StopIteration\n",
    "    while True:\n",
    "        next = last - 1\n",
    "        while True:\n",
    "            # Step 1.\n",
    "            next1 = next\n",
    "            next -= 1\n",
    "            if pred(seq[next], seq[next1]) < 0:\n",
    "                # Step 2.\n",
    "                mid = last - 1\n",
    "                while not (pred(seq[next], seq[mid]) < 0):\n",
    "                    mid -= 1\n",
    "                seq[next], seq[mid] = seq[mid], seq[next]\n",
    "                # Step 3.\n",
    "                reverse(seq, next1, last)\n",
    "                # Change to yield references to get rid of\n",
    "                # (at worst) |seq|! copy operations.\n",
    "                yield seq[:]\n",
    "                break\n",
    "            if next == first:\n",
    "                raise StopIteration\n",
    "    raise StopIteration"
   ]
  },
  {
   "cell_type": "code",
   "execution_count": 12,
   "metadata": {},
   "outputs": [
    {
     "name": "stdout",
     "output_type": "stream",
     "text": [
      "0 Espines abajo\n",
      "1 Espines abajo\n",
      "2 Espines abajo\n",
      "3 Espines abajo\n",
      "4 Espines abajo\n",
      "5 Espines abajo\n",
      "6 Espines abajo\n",
      "7 Espines abajo\n",
      "8 Espines abajo\n",
      "9 Espines abajo\n"
     ]
    }
   ],
   "source": [
    "# GENERADOR DE MICROESTADOS RED N=L*L\n",
    "\n",
    "\n",
    "def Energias(L): # ESTA FUNCION SOLO DEPENDE DEL TAMANO DEL LADO DE LA RED\n",
    "    Energias=[]\n",
    "    N=L*L #NUMERO DE SPINES EN RED\n",
    "    for i in range(0,N+1): # CREA LAS PERMUTACIONES CON REPETICION DE ESTADOS ARRIBA Y ABAJO\n",
    "        print str(i)+\" Espines abajo\"\n",
    "        microestados=list(next_permutation([-1]*i+[1]*(N-i)))\n",
    "        c=0\n",
    "        for i in microestados:\n",
    "            microestados[c]=np.reshape(i,(L,L))\n",
    "            c+=1\n",
    "        for micro in microestados:\n",
    "            Energia=0\n",
    "            for i in range(L):\n",
    "                for j in range(L):\n",
    "                    arriba=i-1\n",
    "                    abajo=i+1\n",
    "                    der=j+1\n",
    "                    izq=j-1\n",
    "                    if arriba<0:\n",
    "                        arriba=-1\n",
    "                    if abajo>L-1:\n",
    "                        abajo=0\n",
    "                    if der>L-1:\n",
    "                        der=0\n",
    "                    if izq<0:\n",
    "                        izq=-1\n",
    "                    Energia=Energia-micro[i][j]*micro[arriba][j]-micro[i][j]*micro[abajo][j]-micro[i][j]*micro[i][der]-micro[i][j]*micro[i][izq]\n",
    "            Energia=Energia/2 # LA FUNCION ANTERIOR CUENTA DOS VECES CADA INTERACCION\n",
    "            Energias.append(Energia)\n",
    "    return Energias\n",
    "\n",
    "# ESTA FUNCION CALCULA LA DENSIDAD DE ESTADOS\n",
    "                        \n",
    "def DensidadEstado(Energias):\n",
    "    EnergiasSR=[]\n",
    "    Omega=[]\n",
    "    for i in Energias: # CUENTA EL NUMERO DE DIFERENTES ENERGIAS\n",
    "        if i not in EnergiasSR:\n",
    "            EnergiasSR.append(i)\n",
    "    for j in EnergiasSR: # CUENTA EL NUMERO DE VECES QUE SE REPITE CADA ENERGIA PARA CALCULAR OMEGA\n",
    "        c=0\n",
    "        for k in Energias:\n",
    "            if k==j:\n",
    "                c+=1\n",
    "        Omega.append(c)\n",
    "    Densidad=[]\n",
    "    for m in range(len(EnergiasSR)):\n",
    "        Densidad.append([EnergiasSR[m],Omega[m]])\n",
    "    return Densidad\n"
   ]
  },
  {
   "cell_type": "code",
   "execution_count": 18,
   "metadata": {},
   "outputs": [
    {
     "name": "stdout",
     "output_type": "stream",
     "text": [
      "0 Espines abajo\n",
      "1 Espines abajo\n",
      "2 Espines abajo\n",
      "3 Espines abajo\n",
      "4 Espines abajo\n"
     ]
    }
   ],
   "source": [
    "# MALLA 2*2\n",
    "\n",
    "t0=time()\n",
    "E22=Energias(2)\n",
    "Resultado=DensidadEstado(E22)\n",
    "t1=time()\n",
    "\n",
    "f = open('Energias22.txt','w')\n",
    "f.write(str(Resultado))\n",
    "f.write(\"\\n\"+str(t1-t0))\n",
    "f.close()"
   ]
  },
  {
   "cell_type": "code",
   "execution_count": 92,
   "metadata": {},
   "outputs": [
    {
     "name": "stdout",
     "output_type": "stream",
     "text": [
      "0 Espines abajo\n",
      "1 Espines abajo\n",
      "2 Espines abajo\n",
      "3 Espines abajo\n",
      "4 Espines abajo\n",
      "5 Espines abajo\n",
      "6 Espines abajo\n",
      "7 Espines abajo\n",
      "8 Espines abajo\n",
      "9 Espines abajo\n"
     ]
    }
   ],
   "source": [
    "# MALLA 3*3\n",
    "\n",
    "t0=time()\n",
    "E33=Energias(3)\n",
    "Resultado3=DensidadEstado(E33)\n",
    "t1=time()\n",
    "\n",
    "f = open('Energias33.txt','w')\n",
    "f.write(str(Resultado))\n",
    "f.write(\"\\n\"+str(t1-t0))\n",
    "f.close()\n"
   ]
  },
  {
   "cell_type": "code",
   "execution_count": 88,
   "metadata": {},
   "outputs": [
    {
     "name": "stdout",
     "output_type": "stream",
     "text": [
      "0 Espines abajo\n",
      "1 Espines abajo\n",
      "2 Espines abajo\n",
      "3 Espines abajo\n",
      "4 Espines abajo\n",
      "5 Espines abajo\n",
      "6 Espines abajo\n",
      "7 Espines abajo\n",
      "8 Espines abajo\n",
      "9 Espines abajo\n",
      "10 Espines abajo\n",
      "11 Espines abajo\n",
      "12 Espines abajo\n",
      "13 Espines abajo\n",
      "14 Espines abajo\n",
      "15 Espines abajo\n",
      "16 Espines abajo\n"
     ]
    }
   ],
   "source": [
    "# MALLA 4*4\n",
    "\n",
    "t0=time()\n",
    "E44=Energias(4)\n",
    "Resultado=DensidadEstado(E44)\n",
    "t1=time()\n",
    "\n",
    "f = open('Energias44.txt','w')\n",
    "f.write(str(Resultado))\n",
    "f.write(\"\\n\"+str(t1-t0))\n",
    "f.close()"
   ]
  },
  {
   "cell_type": "code",
   "execution_count": 93,
   "metadata": {
    "scrolled": true
   },
   "outputs": [],
   "source": [
    "archivo=open(\"Energias33.txt\",\"r\")\n",
    "datos=archivo.readlines()\n",
    "densidad=datos[0]"
   ]
  },
  {
   "cell_type": "code",
   "execution_count": 94,
   "metadata": {},
   "outputs": [
    {
     "data": {
      "text/plain": [
       "'[[-32, 2], [-24, 32], [-20, 64], [-16, 424], [-12, 1728], [-8, 6688], [-4, 13568], [0, 20524], [4, 13568], [8, 6688], [12, 1728], [16, 424], [24, 32], [20, 64], [32, 2]]\\n'"
      ]
     },
     "execution_count": 94,
     "metadata": {},
     "output_type": "execute_result"
    }
   ],
   "source": [
    "densidad"
   ]
  },
  {
   "cell_type": "code",
   "execution_count": null,
   "metadata": {},
   "outputs": [],
   "source": []
  },
  {
   "cell_type": "code",
   "execution_count": 74,
   "metadata": {},
   "outputs": [],
   "source": [
    "Resultado3\n",
    "def Zeta(Densidad):\n",
    "    x=np.linspace(0,10,200)\n",
    "    zeta=[]\n",
    "    for i in x:\n",
    "        zet=0\n",
    "        for j in Densidad:\n",
    "            zet+=j[1]*np.exp(-1.0*j[0]*i)\n",
    "        zeta.append(zet)\n",
    "    return [x,zeta]\n",
    "\n",
    "def prome_ene(Densidad):\n",
    "    x=np.linspace(0,10,200)\n",
    "    e=[]\n",
    "    for i in x:\n",
    "        zet=0\n",
    "        for j in Densidad:\n",
    "            zet+=j[0]*j[1]*np.exp(-1.0*j[0]*i)\n",
    "        e.append(zet)\n",
    "    return [x,e]\n",
    "def prome_ene2(Densidad):\n",
    "    x=np.linspace(0,10,200)\n",
    "    e2=[]\n",
    "    for i in x:\n",
    "        zet=0\n",
    "        for j in Densidad:\n",
    "            zet+=j[0]*j[0]*j[1]*np.exp(-1.0*j[0]*i)\n",
    "        e2.append(zet)\n",
    "    return [x,e2]"
   ]
  },
  {
   "cell_type": "code",
   "execution_count": 77,
   "metadata": {},
   "outputs": [],
   "source": [
    "a=np.array(prome_ene(Resultado3)[1])\n",
    "b=np.array(prome_ene2(Resultado3)[1])\n",
    "\n",
    "cv=b-a*a"
   ]
  },
  {
   "cell_type": "code",
   "execution_count": 78,
   "metadata": {},
   "outputs": [
    {
     "data": {
      "text/plain": [
       "[<matplotlib.lines.Line2D at 0x7fd2e4bd6ad0>]"
      ]
     },
     "execution_count": 78,
     "metadata": {},
     "output_type": "execute_result"
    },
    {
     "data": {
      "image/png": "[encoded data removed]",
      "text/plain": [
       "<matplotlib.figure.Figure at 0x7fd2e4be8810>"
      ]
     },
     "metadata": {},
     "output_type": "display_data"
    }
   ],
   "source": [
    "plt.plot(prome_ene(Resultado3)[0],cv)"
   ]
  },
  {
   "cell_type": "code",
   "execution_count": null,
   "metadata": {
    "collapsed": true
   },
   "outputs": [],
   "source": []
  }
 ],
 "metadata": {
  "kernelspec": {
   "display_name": "Python 2",
   "language": "python",
   "name": "python2"
  },
  "language_info": {
   "codemirror_mode": {
    "name": "ipython",
    "version": 2
   },
   "file_extension": ".py",
   "mimetype": "text/x-python",
   "name": "python",
   "nbconvert_exporter": "python",
   "pygments_lexer": "ipython2",
   "version": "2.7.12"
  }
 },
 "nbformat": 4,
 "nbformat_minor": 2
}
