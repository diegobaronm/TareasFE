{
 "cells": [
  {
   "cell_type": "code",
   "execution_count": 1,
   "metadata": {},
   "outputs": [
    {
     "name": "stdout",
     "output_type": "stream",
     "text": [
      "Populating the interactive namespace from numpy and matplotlib\n"
     ]
    }
   ],
   "source": [
    "import numpy as  # IMPORTAR LAS LIBRERIAS NECESARIAS\n",
    "from time import time\n",
    "%pylab inline"
   ]
  },
  {
   "cell_type": "code",
   "execution_count": 2,
   "metadata": {},
   "outputs": [],
   "source": [
    "# ESTA RUTINA FUE TOMADA DE UNA FUENTE EXTERNA EN STACKOVERFLOW\n",
    "\n",
    "def next_permutation(seq, pred=cmp): # RUTINA PARA GENERAR LAS PERMUTACIONES CON REPETICION \n",
    "    \"\"\"Like C++ std::next_permutation() but implemented as\n",
    "    generator. Yields copies of seq.\"\"\"\n",
    "    def reverse(seq, start, end):\n",
    "        # seq = seq[:start] + reversed(seq[start:end]) + \\\n",
    "        #       seq[end:]\n",
    "        end -= 1\n",
    "        if end <= start:\n",
    "            return\n",
    "        while True:\n",
    "            seq[start], seq[end] = seq[end], seq[start]\n",
    "            if start == end or start+1 == end:\n",
    "                return\n",
    "            start += 1\n",
    "            end -= 1\n",
    "    if not seq:\n",
    "        raise StopIteration\n",
    "    try:\n",
    "        seq[0]\n",
    "    except TypeError:\n",
    "        raise TypeError(\"seq must allow random access.\")\n",
    "    first = 0\n",
    "    last = len(seq)\n",
    "    seq = seq[:]\n",
    "    # Yield input sequence as the STL version is often\n",
    "    # used inside do {} while.\n",
    "    yield seq[:]\n",
    "    if last == 1:\n",
    "        raise StopIteration\n",
    "    while True:\n",
    "        next = last - 1\n",
    "        while True:\n",
    "            # Step 1.\n",
    "            next1 = next\n",
    "            next -= 1\n",
    "            if pred(seq[next], seq[next1]) < 0:\n",
    "                # Step 2.\n",
    "                mid = last - 1\n",
    "                while not (pred(seq[next], seq[mid]) < 0):\n",
    "                    mid -= 1\n",
    "                seq[next], seq[mid] = seq[mid], seq[next]\n",
    "                # Step 3.\n",
    "                reverse(seq, next1, last)\n",
    "                # Change to yield references to get rid of\n",
    "                # (at worst) |seq|! copy operations.\n",
    "                yield seq[:]\n",
    "                break\n",
    "            if next == first:\n",
    "                raise StopIteration\n",
    "    raise StopIteration"
   ]
  },
  {
   "cell_type": "code",
   "execution_count": 3,
   "metadata": {},
   "outputs": [],
   "source": [
    "# GENERADOR DE MICROESTADOS RED N=L*L\n",
    "\n",
    "\n",
    "def Energias(L): # ESTA FUNCION SOLO DEPENDE DEL TAMANO DEL LADO DE LA RED\n",
    "    Energias=[]\n",
    "    N=L*L #NUMERO DE SPINES EN RED\n",
    "    for i in range(0,N+1): # CREA LAS PERMUTACIONES CON REPETICION DE ESTADOS ARRIBA Y ABAJO\n",
    "        print str(i)+\" Espines abajo\"\n",
    "        microestados=list(next_permutation([-1]*i+[1]*(N-i)))\n",
    "        c=0\n",
    "        for i in microestados:\n",
    "            microestados[c]=np.reshape(i,(L,L)) # GENERA LOS ARREGLOS EN FORMA DE MATRICES CUADRADAS\n",
    "            c+=1\n",
    "        for micro in microestados: # ESTA RUTINA CALCULA LA ENERGIA DE CADA MICROESTADO\n",
    "            Energia=0\n",
    "            for i in range(L): # SE RECORREN LOS ARREGLOS\n",
    "                for j in range(L):\n",
    "                    arriba=i-1\n",
    "                    abajo=i+1\n",
    "                    der=j+1\n",
    "                    izq=j-1\n",
    "                    if arriba<0: # CON ESTAS CONDICIONES SE IMPLEMENTAN LAS CONDICIONES DE FRONTERA PERIODICAS\n",
    "                        arriba=-1\n",
    "                    if abajo>L-1:\n",
    "                        abajo=0\n",
    "                    if der>L-1:\n",
    "                        der=0\n",
    "                    if izq<0:\n",
    "                        izq=-1\n",
    "                    Energia=Energia-micro[i][j]*micro[arriba][j]-micro[i][j]*micro[abajo][j]-micro[i][j]*micro[i][der]-micro[i][j]*micro[i][izq]\n",
    "            Energia=Energia/2 # LA FUNCION ANTERIOR CUENTA DOS VECES CADA INTERACCION\n",
    "            Energias.append(Energia)\n",
    "    return Energias # ESTA FUNCION DEVUELVE UN VECTOR CON LAS ENERGIAS CORRESPONDIENTES A CADA MICROESTADO\n",
    "\n",
    "# ESTA FUNCION CALCULA LA DENSIDAD DE ESTADOS\n",
    "                        \n",
    "def DensidadEstado(Energias):\n",
    "    EnergiasSR=[]\n",
    "    Omega=[]\n",
    "    for i in Energias: # CUENTA EL NUMERO DE DIFERENTES ENERGIAS\n",
    "        if i not in EnergiasSR:\n",
    "            EnergiasSR.append(i)\n",
    "    for j in EnergiasSR: # CUENTA EL NUMERO DE VECES QUE SE REPITE CADA ENERGIA PARA CALCULAR OMEGA\n",
    "        c=0\n",
    "        for k in Energias:\n",
    "            if k==j:\n",
    "                c+=1\n",
    "        Omega.append(c)\n",
    "    Densidad=[]\n",
    "    for m in range(len(EnergiasSR)):\n",
    "        Densidad.append([EnergiasSR[m],Omega[m]])\n",
    "    return Densidad # DEVUELVE UNA FUNCION CON EL PRIMER VALOR SIENDO LA ENERGIA Y EL SEGUNDO \n",
    "# EL NUNERO DE MICROESTADOS QUE POSEEN ESE VALOR \n"
   ]
  },
  {
   "cell_type": "code",
   "execution_count": 4,
   "metadata": {},
   "outputs": [
    {
     "name": "stdout",
     "output_type": "stream",
     "text": [
      "0 Espines abajo\n",
      "1 Espines abajo\n",
      "2 Espines abajo\n",
      "3 Espines abajo\n",
      "4 Espines abajo\n"
     ]
    }
   ],
   "source": [
    "# MALLA 2*2\n",
    "\n",
    "t0=time()\n",
    "E22=Energias(2)\n",
    "Resultado22=DensidadEstado(E22)\n",
    "t1=time()\n",
    "\n",
    "#ESCRIBE LOS  RESULTADOS DEL TIEMPO DE COMPUTO Y DENSIDAD DE ESTADOS EN UN VECTOR\n",
    "f = open('Energias22.txt','w')\n",
    "f.write(str(Resultado22))\n",
    "f.write(\"\\n\"+str(t1-t0))\n",
    "f.close()"
   ]
  },
  {
   "cell_type": "code",
   "execution_count": 5,
   "metadata": {},
   "outputs": [
    {
     "name": "stdout",
     "output_type": "stream",
     "text": [
      "0 Espines abajo\n",
      "1 Espines abajo\n",
      "2 Espines abajo\n",
      "3 Espines abajo\n",
      "4 Espines abajo\n",
      "5 Espines abajo\n",
      "6 Espines abajo\n",
      "7 Espines abajo\n",
      "8 Espines abajo\n",
      "9 Espines abajo\n"
     ]
    }
   ],
   "source": [
    "# MALLA 3*3\n",
    "\n",
    "t0=time()\n",
    "E33=Energias(3)\n",
    "Resultado33=DensidadEstado(E33)\n",
    "t1=time()\n",
    "\n",
    "f = open('Energias33.txt','w')\n",
    "f.write(str(Resultado33))\n",
    "f.write(\"\\n\"+str(t1-t0))\n",
    "f.close()\n"
   ]
  },
  {
   "cell_type": "code",
   "execution_count": 6,
   "metadata": {},
   "outputs": [
    {
     "name": "stdout",
     "output_type": "stream",
     "text": [
      "0 Espines abajo\n",
      "1 Espines abajo\n",
      "2 Espines abajo\n",
      "3 Espines abajo\n",
      "4 Espines abajo\n",
      "5 Espines abajo\n",
      "6 Espines abajo\n",
      "7 Espines abajo\n",
      "8 Espines abajo\n",
      "9 Espines abajo\n",
      "10 Espines abajo\n",
      "11 Espines abajo\n",
      "12 Espines abajo\n",
      "13 Espines abajo\n",
      "14 Espines abajo\n",
      "15 Espines abajo\n",
      "16 Espines abajo\n"
     ]
    }
   ],
   "source": [
    "# MALLA 4*4\n",
    "\n",
    "t0=time()\n",
    "E44=Energias(4)\n",
    "Resultado44=DensidadEstado(E44)\n",
    "t1=time()\n",
    "\n",
    "f = open('Energias44.txt','w')\n",
    "f.write(str(Resultado44))\n",
    "f.write(\"\\n\"+str(t1-t0))\n",
    "f.close()"
   ]
  },
  {
   "cell_type": "code",
   "execution_count": 13,
   "metadata": {},
   "outputs": [
    {
     "name": "stdout",
     "output_type": "stream",
     "text": [
      "0 Espines abajo\n",
      "1 Espines abajo\n",
      "2 Espines abajo\n",
      "3 Espines abajo\n",
      "4 Espines abajo\n",
      "5 Espines abajo\n",
      "6 Espines abajo\n",
      "7 Espines abajo\n",
      "8 Espines abajo\n",
      "9 Espines abajo\n",
      "10 Espines abajo\n",
      "11 Espines abajo\n",
      "12 Espines abajo\n",
      "13 Espines abajo\n",
      "14 Espines abajo\n",
      "15 Espines abajo\n",
      "16 Espines abajo\n",
      "17 Espines abajo\n",
      "18 Espines abajo\n",
      "19 Espines abajo\n",
      "20 Espines abajo\n",
      "21 Espines abajo\n",
      "22 Espines abajo\n",
      "23 Espines abajo\n",
      "24 Espines abajo\n",
      "25 Espines abajo\n"
     ]
    }
   ],
   "source": [
    "# MALLA 5*5\n",
    "\n",
    "t0=time()\n",
    "E55=Energias(5)\n",
    "Resultado55=DensidadEstado(E55)\n",
    "t1=time()\n",
    "\n",
    "f = open('Energias55.txt','w')\n",
    "f.write(str(Resultado55))\n",
    "f.write(\"\\n\"+str(t1-t0))\n",
    "f.close()"
   ]
  },
  {
   "cell_type": "code",
   "execution_count": 31,
   "metadata": {
    "scrolled": true
   },
   "outputs": [],
   "source": [
    "archivo=open(\"Energias44.txt\",\"r\")\n",
    "datos=archivo.readlines()\n",
    "densidad=datos[1]"
   ]
  },
  {
   "cell_type": "code",
   "execution_count": 32,
   "metadata": {},
   "outputs": [
    {
     "data": {
      "text/plain": [
       "'3.50356388092'"
      ]
     },
     "execution_count": 32,
     "metadata": {},
     "output_type": "execute_result"
    }
   ],
   "source": [
    "densidad"
   ]
  },
  {
   "cell_type": "code",
   "execution_count": null,
   "metadata": {},
   "outputs": [],
   "source": []
  },
  {
   "cell_type": "code",
   "execution_count": 10,
   "metadata": {},
   "outputs": [],
   "source": [
    "\n",
    "def Zeta(T,Densidad): #CALCULA LA FUNCION DE PARTICION\n",
    "\n",
    "    zet=0\n",
    "    for j in Densidad:\n",
    "        zet+=j[1]*np.exp(-1.0*j[0]/T)\n",
    "    return zet\n",
    "\n",
    "def prome_ene(T,Densidad #CALCULA EL PROMEDIO DE LA ENERGIA\n",
    "    e=0\n",
    "    for j in Densidad:\n",
    "        e+=j[0]*j[1]*np.exp(-1.0*j[0]/i)\n",
    "    return e/Zeta(T,Densidad)\n",
    "def prome_ene2(T,Densidad): #CALCULA EL CUADRADO DEL PROMEDIO DE LA ENERGIA \n",
    "    e2=0\n",
    "    for j in Densidad:\n",
    "        e2+=j[0]*j[0]*j[1]*np.exp(-1.0*j[0]/i)\n",
    "    return e2/Zeta(T,Densidad)"
   ]
  },
  {
   "cell_type": "code",
   "execution_count": 139,
   "metadata": {},
   "outputs": [
    {
     "data": {
      "text/plain": [
       "array([ 1.94070352,  1.99045226,  2.04020101,  2.08994975,  2.13969849,\n",
       "        2.18944724,  2.23919598,  2.28894472,  2.33869347,  2.38844221,\n",
       "        2.43819095,  2.4879397 ,  2.53768844])"
      ]
     },
     "execution_count": 139,
     "metadata": {},
     "output_type": "execute_result"
    }
   ],
   "source": [
    "#CALOR ESPECIFICO PARA EL SISTEMA 2*2\n",
    "T=np.linspace(0.1,10,200)\n",
    "e22=np.array([prome_ene2(i,Resultado22) for i in T ])\n",
    "e2=np.array([prome_ene(i,Resultado22) for i in T ])\n",
    "cv2=(e22-e2*e2)/T/T/4\n",
    "#3*3\n",
    "T=np.linspace(0.1,10,200)\n",
    "e23=np.array([prome_ene2(i,Resultado33) for i in T ])\n",
    "e3=np.array([prome_ene(i,Resultado33) for i in T ])\n",
    "cv3=(e23-e3*e3)/T/T/9\n",
    "#4*4\n",
    "T=np.linspace(0.1,10,200)\n",
    "e24=np.array([prome_ene2(i,Resultado44) for i in T ])\n",
    "e4=np.array([prome_ene(i,Resultado44) for i in T ])\n",
    "cv4=(e24-e4*e4)/T/T/16\n",
    "#5*5\n",
    "T=np.linspace(0.1,10,200)\n",
    "e25=np.array([prome_ene2(i,Resultado55) for i in T ])\n",
    "e5=np.array([prome_ene(i,Resultado55) for i in T ])\n",
    "cv5=(e25-e5*e5)/T/T/25\n",
    "\n",
    "Tcexacta=2.269185\n",
    "\n",
    "Tcerca=T[37:50]\n",
    "\n",
    "Cvexacto=((2**3)/(np.pi*Tcexacta*Tcexacta))*(-1*np.log(np.abs(1-Tcerca/Tcexacta))+np.log(Tcexacta/2)-(1+np.pi/4))\n",
    "Tcerca\n"
   ]
  },
  {
   "cell_type": "code",
   "execution_count": 140,
   "metadata": {},
   "outputs": [
    {
     "data": {
      "text/plain": [
       "[]"
      ]
     },
     "execution_count": 140,
     "metadata": {},
     "output_type": "execute_result"
    },
    {
     "data": {
      "image/png": "[encoded data removed]",
      "text/plain": [
       "<matplotlib.figure.Figure at 0x7fdb89516bd0>"
      ]
     },
     "metadata": {},
     "output_type": "display_data"
    }
   ],
   "source": [
    "# CURVAS DE CALOR ESPECIFICO VERSUS TEMPERATURA\n",
    "\n",
    "\n",
    "\n",
    "plt.rc('text', usetex=True)\n",
    "plt.rc('font', family='serif')\n",
    "matplotlib.rcParams['figure.figsize'] = [14, 10]\n",
    "matplotlib.rc('xtick', labelsize=16) \n",
    "matplotlib.rc('ytick', labelsize=16)\n",
    "plt.xlabel(\"Temperatura\",fontsize=18)\n",
    "plt.ylabel(\"Calor especifico\",fontsize=18)\n",
    "plt.plot(T,cv2,label=r\"2\\times2\")\n",
    "plt.plot(T,cv3,label=r\"3\\times3\")\n",
    "plt.plot(T,cv4,label=r\"4\\times4\")\n",
    "plt.plot(T,cv5,label=r\"5\\times5\")\n",
    "plt.plot(Tcerca,Cvexacto,label=r\"Teorico cerca de T_c=2.269185\")\n",
    "xlim(0,7)\n",
    "plt.legend(fontsize=18)\n",
    "plt.plot()"
   ]
  },
  {
   "cell_type": "code",
   "execution_count": null,
   "metadata": {},
   "outputs": [],
   "source": []
  },
  {
   "cell_type": "code",
   "execution_count": 141,
   "metadata": {},
   "outputs": [],
   "source": [
    "# OBTIENE LA TEMPERATURA DE CURIE\n",
    "TC=[]\n",
    "#2*2\n",
    "indice=cv2.argmax(axis=0)\n",
    "tc=T[indice]\n",
    "TC.append(tc)\n",
    "#3*3\n",
    "indice=cv3.argmax(axis=0)\n",
    "tc=T[indice]\n",
    "TC.append(tc)\n",
    "#4*4\n",
    "indice=cv4.argmax(axis=0)\n",
    "tc=T[indice]\n",
    "TC.append(tc)\n",
    "#5*5\n",
    "indice=cv5.argmax(axis=0)\n",
    "tc=T[indice]\n",
    "TC.append(tc)\n"
   ]
  },
  {
   "cell_type": "code",
   "execution_count": 144,
   "metadata": {},
   "outputs": [
    {
     "data": {
      "text/plain": [
       "<matplotlib.legend.Legend at 0x7fdb84463350>"
      ]
     },
     "execution_count": 144,
     "metadata": {},
     "output_type": "execute_result"
    },
    {
     "data": {
      "image/png": "[encoded data removed]",
      "text/plain": [
       "<matplotlib.figure.Figure at 0x7fdb83cb81d0>"
      ]
     },
     "metadata": {},
     "output_type": "display_data"
    }
   ],
   "source": [
    "# GRAFICA TEMPERATURA DE CURIE VS TAMAÑO DEL SISTEMA\n",
    "L=[2,3,4,5]\n",
    "matplotlib.rcParams['figure.figsize'] = [14, 10]\n",
    "matplotlib.rc('xtick', labelsize=16) \n",
    "matplotlib.rc('ytick', labelsize=16)\n",
    "plt.xlabel(\"Temperatura\",fontsize=18)\n",
    "plt.ylabel(\"Calor especifico\",fontsize=18)\n",
    "plt.plot(L,TC,label=r\"L vs T_C\")\n",
    "xlim(0,7)\n",
    "plt.legend(fontsize=18)\n",
    "\n"
   ]
  },
  {
   "cell_type": "code",
   "execution_count": 145,
   "metadata": {},
   "outputs": [
    {
     "data": {
      "text/plain": [
       "array([  0.1       ,   0.14974874,   0.19949749,   0.24924623,\n",
       "         0.29899497,   0.34874372,   0.39849246,   0.44824121,\n",
       "         0.49798995,   0.54773869,   0.59748744,   0.64723618,\n",
       "         0.69698492,   0.74673367,   0.79648241,   0.84623116,\n",
       "         0.8959799 ,   0.94572864,   0.99547739,   1.04522613,\n",
       "         1.09497487,   1.14472362,   1.19447236,   1.24422111,\n",
       "         1.29396985,   1.34371859,   1.39346734,   1.44321608,\n",
       "         1.49296482,   1.54271357,   1.59246231,   1.64221106,\n",
       "         1.6919598 ,   1.74170854,   1.79145729,   1.84120603,\n",
       "         1.89095477,   1.94070352,   1.99045226,   2.04020101,\n",
       "         2.08994975,   2.13969849,   2.18944724,   2.23919598,\n",
       "         2.28894472,   2.33869347,   2.38844221,   2.43819095,\n",
       "         2.4879397 ,   2.53768844,   2.58743719,   2.63718593,\n",
       "         2.68693467,   2.73668342,   2.78643216,   2.8361809 ,\n",
       "         2.88592965,   2.93567839,   2.98542714,   3.03517588,\n",
       "         3.08492462,   3.13467337,   3.18442211,   3.23417085,\n",
       "         3.2839196 ,   3.33366834,   3.38341709,   3.43316583,\n",
       "         3.48291457,   3.53266332,   3.58241206,   3.6321608 ,\n",
       "         3.68190955,   3.73165829,   3.78140704,   3.83115578,\n",
       "         3.88090452,   3.93065327,   3.98040201,   4.03015075,\n",
       "         4.0798995 ,   4.12964824,   4.17939698,   4.22914573,\n",
       "         4.27889447,   4.32864322,   4.37839196,   4.4281407 ,\n",
       "         4.47788945,   4.52763819,   4.57738693,   4.62713568,\n",
       "         4.67688442,   4.72663317,   4.77638191,   4.82613065,\n",
       "         4.8758794 ,   4.92562814,   4.97537688,   5.02512563,\n",
       "         5.07487437,   5.12462312,   5.17437186,   5.2241206 ,\n",
       "         5.27386935,   5.32361809,   5.37336683,   5.42311558,\n",
       "         5.47286432,   5.52261307,   5.57236181,   5.62211055,\n",
       "         5.6718593 ,   5.72160804,   5.77135678,   5.82110553,\n",
       "         5.87085427,   5.92060302,   5.97035176,   6.0201005 ,\n",
       "         6.06984925,   6.11959799,   6.16934673,   6.21909548,\n",
       "         6.26884422,   6.31859296,   6.36834171,   6.41809045,\n",
       "         6.4678392 ,   6.51758794,   6.56733668,   6.61708543,\n",
       "         6.66683417,   6.71658291,   6.76633166,   6.8160804 ,\n",
       "         6.86582915,   6.91557789,   6.96532663,   7.01507538,\n",
       "         7.06482412,   7.11457286,   7.16432161,   7.21407035,\n",
       "         7.2638191 ,   7.31356784,   7.36331658,   7.41306533,\n",
       "         7.46281407,   7.51256281,   7.56231156,   7.6120603 ,\n",
       "         7.66180905,   7.71155779,   7.76130653,   7.81105528,\n",
       "         7.86080402,   7.91055276,   7.96030151,   8.01005025,\n",
       "         8.05979899,   8.10954774,   8.15929648,   8.20904523,\n",
       "         8.25879397,   8.30854271,   8.35829146,   8.4080402 ,\n",
       "         8.45778894,   8.50753769,   8.55728643,   8.60703518,\n",
       "         8.65678392,   8.70653266,   8.75628141,   8.80603015,\n",
       "         8.85577889,   8.90552764,   8.95527638,   9.00502513,\n",
       "         9.05477387,   9.10452261,   9.15427136,   9.2040201 ,\n",
       "         9.25376884,   9.30351759,   9.35326633,   9.40301508,\n",
       "         9.45276382,   9.50251256,   9.55226131,   9.60201005,\n",
       "         9.65175879,   9.70150754,   9.75125628,   9.80100503,\n",
       "         9.85075377,   9.90050251,   9.95025126,  10.        ])"
      ]
     },
     "execution_count": 145,
     "metadata": {},
     "output_type": "execute_result"
    }
   ],
   "source": [
    "# ESTIMA TIEMPO COMPUTACIONAL\n"
   ]
  },
  {
   "cell_type": "code",
   "execution_count": null,
   "metadata": {},
   "outputs": [],
   "source": []
  },
  {
   "cell_type": "code",
   "execution_count": 85,
   "metadata": {},
   "outputs": [
    {
     "data": {
      "text/plain": [
       "2"
      ]
     },
     "execution_count": 85,
     "metadata": {},
     "output_type": "execute_result"
    }
   ],
   "source": [
    "np.abs(-2)"
   ]
  },
  {
   "cell_type": "code",
   "execution_count": null,
   "metadata": {},
   "outputs": [],
   "source": []
  }
 ],
 "metadata": {
  "kernelspec": {
   "display_name": "Python 2",
   "language": "python",
   "name": "python2"
  },
  "language_info": {
   "codemirror_mode": {
    "name": "ipython",
    "version": 2
   },
   "file_extension": ".py",
   "mimetype": "text/x-python",
   "name": "python",
   "nbconvert_exporter": "python",
   "pygments_lexer": "ipython2",
   "version": "2.7.12"
  }
 },
 "nbformat": 4,
 "nbformat_minor": 2
}
