{
 "cells": [
  {
   "cell_type": "markdown",
   "metadata": {},
   "source": [
    "# Tarea 3\n",
    "\n",
    "# Física Estadística\n",
    "\n",
    "## Diego Barón, Universidad de Antioquia\n",
    "\n",
    "## Resumen\n",
    "\n",
    "En esta tarea se resuelve el modelo de Ising bidimensional, el método utlizado es calcular cada uno de los microestados y las energias asociadas a cada uno de estos para obtener la función partición. Encontramos una transición de fase del sistema, y se analizan los dominios magnéticos encontrados.\n",
    "\n",
    "### Palabras clave: \n",
    "Modelo de Ising 2D\n",
    "\n",
    "#### NOTA: Este notebook debe ser corrido desde el principio para que funcione debidamente.\n",
    "\n",
    "\n",
    "## Introducción\n",
    "\n",
    "PONER INTRO\n",
    "\n",
    "\n",
    "## Resultados y discusión\n",
    "\n",
    "### Método de conteo exacto\n",
    "\n",
    "En esta primera parte se definen las funciones necesarias para calcular los microestados y la densidades de estado. Es importante tener en cuenta que se hizo el cálculo de las energías utilizando condiciones de frontera perioódicas."
   ]
  },
  {
   "cell_type": "code",
   "execution_count": 1,
   "metadata": {},
   "outputs": [
    {
     "name": "stdout",
     "output_type": "stream",
     "text": [
      "Populating the interactive namespace from numpy and matplotlib\n"
     ]
    }
   ],
   "source": [
    "import numpy as np  # IMPORTAR LAS LIBRERIAS NECESARIAS\n",
    "from time import time\n",
    "%pylab inline"
   ]
  },
  {
   "cell_type": "code",
   "execution_count": 2,
   "metadata": {
    "collapsed": true
   },
   "outputs": [],
   "source": [
    "# ESTA RUTINA FUE TOMADA DE UNA FUENTE EXTERNA EN STACKOVERFLOW\n",
    "\n",
    "def next_permutation(seq, pred=cmp): # RUTINA PARA GENERAR LAS PERMUTACIONES CON REPETICION \n",
    "    \"\"\"Like C++ std::next_permutation() but implemented as\n",
    "    generator. Yields copies of seq.\"\"\"\n",
    "    def reverse(seq, start, end):\n",
    "        # seq = seq[:start] + reversed(seq[start:end]) + \\\n",
    "        #       seq[end:]\n",
    "        end -= 1\n",
    "        if end <= start:\n",
    "            return\n",
    "        while True:\n",
    "            seq[start], seq[end] = seq[end], seq[start]\n",
    "            if start == end or start+1 == end:\n",
    "                return\n",
    "            start += 1\n",
    "            end -= 1\n",
    "    if not seq:\n",
    "        raise StopIteration\n",
    "    try:\n",
    "        seq[0]\n",
    "    except TypeError:\n",
    "        raise TypeError(\"seq must allow random access.\")\n",
    "    first = 0\n",
    "    last = len(seq)\n",
    "    seq = seq[:]\n",
    "    # Yield input sequence as the STL version is often\n",
    "    # used inside do {} while.\n",
    "    yield seq[:]\n",
    "    if last == 1:\n",
    "        raise StopIteration\n",
    "    while True:\n",
    "        next = last - 1\n",
    "        while True:\n",
    "            # Step 1.\n",
    "            next1 = next\n",
    "            next -= 1\n",
    "            if pred(seq[next], seq[next1]) < 0:\n",
    "                # Step 2.\n",
    "                mid = last - 1\n",
    "                while not (pred(seq[next], seq[mid]) < 0):\n",
    "                    mid -= 1\n",
    "                seq[next], seq[mid] = seq[mid], seq[next]\n",
    "                # Step 3.\n",
    "                reverse(seq, next1, last)\n",
    "                # Change to yield references to get rid of\n",
    "                # (at worst) |seq|! copy operations.\n",
    "                yield seq[:]\n",
    "                break\n",
    "            if next == first:\n",
    "                raise StopIteration\n",
    "    raise StopIteration"
   ]
  },
  {
   "cell_type": "code",
   "execution_count": 3,
   "metadata": {
    "collapsed": true
   },
   "outputs": [],
   "source": [
    "# GENERADOR DE MICROESTADOS RED N=L*L\n",
    "\n",
    "\n",
    "def Energias(L): # ESTA FUNCION SOLO DEPENDE DEL TAMANO DEL LADO DE LA RED\n",
    "    Energias=[]\n",
    "    N=L*L #NUMERO DE SPINES EN RED\n",
    "    for i in range(0,N+1): # CREA LAS PERMUTACIONES CON REPETICION DE ESTADOS ARRIBA Y ABAJO\n",
    "        print str(i)+\" Espines abajo\"\n",
    "        microestados=list(next_permutation([-1]*i+[1]*(N-i)))\n",
    "        c=0\n",
    "        for i in microestados:\n",
    "            microestados[c]=np.reshape(i,(L,L)) # GENERA LOS ARREGLOS EN FORMA DE MATRICES CUADRADAS\n",
    "            c+=1\n",
    "        for micro in microestados: # ESTA RUTINA CALCULA LA ENERGIA DE CADA MICROESTADO\n",
    "            Energia=0\n",
    "            for i in range(L): # SE RECORREN LOS ARREGLOS\n",
    "                for j in range(L):\n",
    "                    arriba=i-1\n",
    "                    abajo=i+1\n",
    "                    der=j+1\n",
    "                    izq=j-1\n",
    "                    if arriba<0: # CON ESTAS CONDICIONES SE IMPLEMENTAN LAS CONDICIONES DE FRONTERA PERIODICAS\n",
    "                        arriba=-1\n",
    "                    if abajo>L-1:\n",
    "                        abajo=0\n",
    "                    if der>L-1:\n",
    "                        der=0\n",
    "                    if izq<0:\n",
    "                        izq=-1\n",
    "                    Energia=Energia-micro[i][j]*micro[arriba][j]-micro[i][j]*micro[abajo][j]-micro[i][j]*micro[i][der]-micro[i][j]*micro[i][izq]\n",
    "            Energia=Energia/2 # LA FUNCION ANTERIOR CUENTA DOS VECES CADA INTERACCION\n",
    "            Energias.append(Energia)\n",
    "    return Energias # ESTA FUNCION DEVUELVE UN VECTOR CON LAS ENERGIAS CORRESPONDIENTES A CADA MICROESTADO\n",
    "\n",
    "# ESTA FUNCION CALCULA LA DENSIDAD DE ESTADOS\n",
    "                        \n",
    "def DensidadEstado(Energias):\n",
    "    EnergiasSR=[]\n",
    "    Omega=[]\n",
    "    for i in Energias: # CUENTA EL NUMERO DE DIFERENTES ENERGIAS\n",
    "        if i not in EnergiasSR:\n",
    "            EnergiasSR.append(i)\n",
    "    for j in EnergiasSR: # CUENTA EL NUMERO DE VECES QUE SE REPITE CADA ENERGIA PARA CALCULAR OMEGA\n",
    "        c=0\n",
    "        for k in Energias:\n",
    "            if k==j:\n",
    "                c+=1\n",
    "        Omega.append(c)\n",
    "    Densidad=[]\n",
    "    for m in range(len(EnergiasSR)):\n",
    "        Densidad.append([EnergiasSR[m],Omega[m]])\n",
    "    return Densidad # DEVUELVE UNA FUNCION CON EL PRIMER VALOR SIENDO LA ENERGIA Y EL SEGUNDO \n",
    "# EL NUNERO DE MICROESTADOS QUE POSEEN ESE VALOR \n"
   ]
  },
  {
   "cell_type": "code",
   "execution_count": 4,
   "metadata": {},
   "outputs": [
    {
     "name": "stdout",
     "output_type": "stream",
     "text": [
      "0 Espines abajo\n",
      "1 Espines abajo\n",
      "2 Espines abajo\n",
      "3 Espines abajo\n",
      "4 Espines abajo\n"
     ]
    }
   ],
   "source": [
    "# MALLA 2*2\n",
    "\n",
    "t0=time()\n",
    "E22=Energias(2)\n",
    "Resultado22=DensidadEstado(E22)\n",
    "t1=time()\n",
    "\n",
    "#ESCRIBE LOS  RESULTADOS DEL TIEMPO DE COMPUTO Y DENSIDAD DE ESTADOS EN UN VECTOR\n",
    "f = open('Energias22.txt','w')\n",
    "f.write(str(Resultado22))\n",
    "f.write(\"\\n\"+str(t1-t0))\n",
    "f.close()"
   ]
  },
  {
   "cell_type": "code",
   "execution_count": 5,
   "metadata": {},
   "outputs": [
    {
     "name": "stdout",
     "output_type": "stream",
     "text": [
      "0 Espines abajo\n",
      "1 Espines abajo\n",
      "2 Espines abajo\n",
      "3 Espines abajo\n",
      "4 Espines abajo\n",
      "5 Espines abajo\n",
      "6 Espines abajo\n",
      "7 Espines abajo\n",
      "8 Espines abajo\n",
      "9 Espines abajo\n"
     ]
    }
   ],
   "source": [
    "# MALLA 3*3\n",
    "\n",
    "t0=time()\n",
    "E33=Energias(3)\n",
    "Resultado33=DensidadEstado(E33)\n",
    "t1=time()\n",
    "\n",
    "f = open('Energias33.txt','w')\n",
    "f.write(str(Resultado33))\n",
    "f.write(\"\\n\"+str(t1-t0))\n",
    "f.close()\n"
   ]
  },
  {
   "cell_type": "code",
   "execution_count": 6,
   "metadata": {},
   "outputs": [
    {
     "name": "stdout",
     "output_type": "stream",
     "text": [
      "0 Espines abajo\n",
      "1 Espines abajo\n",
      "2 Espines abajo\n",
      "3 Espines abajo\n",
      "4 Espines abajo\n",
      "5 Espines abajo\n",
      "6 Espines abajo\n",
      "7 Espines abajo\n",
      "8 Espines abajo\n",
      "9 Espines abajo\n",
      "10 Espines abajo\n",
      "11 Espines abajo\n",
      "12 Espines abajo\n",
      "13 Espines abajo\n",
      "14 Espines abajo\n",
      "15 Espines abajo\n",
      "16 Espines abajo\n"
     ]
    }
   ],
   "source": [
    "# MALLA 4*4\n",
    "\n",
    "t0=time()\n",
    "E44=Energias(4)\n",
    "Resultado44=DensidadEstado(E44)\n",
    "t1=time()\n",
    "\n",
    "f = open('Energias44.txt','w')\n",
    "f.write(str(Resultado44))\n",
    "f.write(\"\\n\"+str(t1-t0))\n",
    "f.close()"
   ]
  },
  {
   "cell_type": "code",
   "execution_count": 13,
   "metadata": {
    "collapsed": true
   },
   "outputs": [],
   "source": [
    "# MALLA 5*5\n",
    "'''\n",
    "t0=time()\n",
    "E55=Energias(5)\n",
    "Resultado55=DensidadEstado(E55)\n",
    "t1=time()\n",
    "\n",
    "f = open('Energias55.txt','w')\n",
    "f.write(str(Resultado55))\n",
    "f.write(\"\\n\"+str(t1-t0))\n",
    "f.close()\n",
    "'''\n",
    "Resultado55=[[-50, 2], [-42, 50], [-38, 100], [-34, 850], [-30, 3140], [-26, 16300], [-22, 74500], [-18, 311800], [-14, 1014900], [-10, 2696080], [-6, 5230300], [-2, 7431800], [2, 7413900], [6, 5276500], [10, 2645740], [14, 1024150], [18, 314300], [22, 82750], [26, 14800], [30, 2470]]"
   ]
  },
  {
   "cell_type": "markdown",
   "metadata": {
    "scrolled": true
   },
   "source": [
    "Ya que en este punto tenemos las densidades de estado, ahora nos disponemos a calcular la función de partición mediante:\n",
    "\n",
    "$$Z(\\beta)=\\sum_E \\Omega(E)\\exp(-\\beta E)$$\n",
    "\n",
    "Además vamos a calcular el calor específico por partícula, esto lo haremos utilizando la siguiente expresión teórica (la cual demostramos aquí mismo):\n",
    "\n",
    "$C_v=\\frac{\\beta^2}{N}(\\langle E^2\\rangle-\\langle E\\rangle^2) $  (1)\n",
    "\n",
    "Demostración de (1):\n"
   ]
  },
  {
   "cell_type": "code",
   "execution_count": 23,
   "metadata": {
    "collapsed": true
   },
   "outputs": [],
   "source": [
    "\n",
    "def Zeta(T,Densidad): #CALCULA LA FUNCION DE PARTICION\n",
    "\n",
    "    zet=0\n",
    "    for j in Densidad:\n",
    "        zet+=j[1]*np.exp(-1.0*j[0]/T)\n",
    "    return zet\n",
    "\n",
    "def prome_ene(T,Densidad): #CALCULA EL PROMEDIO DE LA ENERGIA\n",
    "    e=0\n",
    "    for j in Densidad:\n",
    "        e+=j[0]*j[1]*np.exp(-1.0*j[0]/T)\n",
    "    return e/Zeta(T,Densidad)\n",
    "def prome_ene2(T,Densidad): #CALCULA EL CUADRADO DEL PROMEDIO DE LA ENERGIA \n",
    "    e2=0\n",
    "    for j in Densidad:\n",
    "        e2+=j[0]*j[0]*j[1]*np.exp(-1.0*j[0]/T)\n",
    "    return e2/Zeta(T,Densidad)"
   ]
  },
  {
   "cell_type": "code",
   "execution_count": 26,
   "metadata": {},
   "outputs": [
    {
     "data": {
      "text/plain": [
       "-1.7498647071107449"
      ]
     },
     "execution_count": 26,
     "metadata": {},
     "output_type": "execute_result"
    }
   ],
   "source": [
    "#CALOR ESPECIFICO PARA EL SISTEMA 2*2\n",
    "T=np.linspace(0.1,10,200)\n",
    "e22=np.array([prome_ene2(i,Resultado22) for i in T ])\n",
    "e2=np.array([prome_ene(i,Resultado22) for i in T ])\n",
    "cv2=(e22-e2*e2)/T/T/4\n",
    "#3*3\n",
    "T=np.linspace(0.1,10,200)\n",
    "e23=np.array([prome_ene2(i,Resultado33) for i in T ])\n",
    "e3=np.array([prome_ene(i,Resultado33) for i in T ])\n",
    "cv3=(e23-e3*e3)/T/T/9\n",
    "#4*4\n",
    "T=np.linspace(0.1,10,200)\n",
    "e24=np.array([prome_ene2(i,Resultado44) for i in T ])\n",
    "e4=np.array([prome_ene(i,Resultado44) for i in T ])\n",
    "cv4=(e24-e4*e4)/T/T/16\n",
    "#5*5\n",
    "T=np.linspace(0.1,10,200)\n",
    "e25=np.array([prome_ene2(i,Resultado55) for i in T ])\n",
    "e5=np.array([prome_ene(i,Resultado55) for i in T ])\n",
    "cv5=(e25-e5*e5)/T/T/25\n",
    "\n",
    "import scipy.special as ss\n",
    "\n",
    "T=np.linspace(0.1,10,200)\n",
    "k=np.sinh(2/T)*2/np.cosh(2/T)**2\n",
    "kprime=2*np.tanh(2/T)**2 - 1\n",
    "Kuno=ss.ellipk(k)          #Complete elliptic integral of the first kind\n",
    "Euno=ss.ellipe(k)          #Complete elliptic integral of the second kind.\n",
    "\n",
    "Exacto=(2/np.pi)*(1/(T*np.tanh(2/T)))**2*(2*Kuno-2*Euno-(1-kprime)*(np.pi/2+kprime*Kuno))\n",
    "\n",
    "prome_ene(2.0,Resultado55)/25"
   ]
  },
  {
   "cell_type": "code",
   "execution_count": 31,
   "metadata": {},
   "outputs": [
    {
     "data": {
      "text/plain": [
       "[]"
      ]
     },
     "execution_count": 31,
     "metadata": {},
     "output_type": "execute_result"
    },
    {
     "data": {
      "image/png": "[encoded data removed]",
      "text/plain": [
       "<matplotlib.figure.Figure at 0x7f2d49900f90>"
      ]
     },
     "metadata": {},
     "output_type": "display_data"
    }
   ],
   "source": [
    "# CURVAS DE CALOR ESPECIFICO VERSUS TEMPERATURA\n",
    "\n",
    "\n",
    "\n",
    "plt.rc('text', usetex=True)\n",
    "plt.rc('font', family='serif')\n",
    "matplotlib.rcParams['figure.figsize'] = [14, 10]\n",
    "matplotlib.rc('xtick', labelsize=16) \n",
    "matplotlib.rc('ytick', labelsize=16)\n",
    "plt.xlabel(\"Temperatura\",fontsize=18)\n",
    "plt.ylabel(\"Calor especifico\",fontsize=18)\n",
    "plt.plot(T,cv2,label=r'2\\times2')\n",
    "plt.plot(T,cv3,label=r'3\\times3')\n",
    "plt.plot(T,cv4,label=r'4\\times4')\n",
    "plt.plot(T,cv5,label=r'5\\times5')\n",
    "plt.plot(T,Exacto,label=r\"Teorico\")\n",
    "xlim(0,7)\n",
    "plt.legend(fontsize=18)\n",
    "plt.plot()"
   ]
  },
  {
   "cell_type": "markdown",
   "metadata": {},
   "source": [
    "En esta gráfica se muestra la curva de calor específico por partícula para diferentes tamaños de sistema y además hemos agregado el resultado analítico. Podemos ver como el pico va corriendose hacia la izquierda a medida que aumenta la dimensionalidad del sistema. Otro hecho muy importante es ver que desde el sistema 2X2 se puede observar una transición de fase, que se hace más marcada a medida que aumentamos la dimensionalidad.\n",
    "\n",
    "Esta transición significa que para una temperatura menor a la temperatura de curie (aquella que se define en el máximo de la curva de calor específico) el sistema está en un estado ferromagnético. Luego de esta temperatura el sistema cambia de fase a un estado paramagnético. Es interesante observar entonces que aún cuando no hay un campo magnético externo, cualquier material por debajo de la temperatura de curie es ferromagnético. Esto explica como algunos materiales como el hierro tienen naturalmente este comportamiento.\n",
    "\n",
    "Adicionalmente agregamos la curva de la temperatura de Curie versus el tamaño de sistema donde se puede observar que esta va disminuyendo, cabe resaltar que el valor teórico es $Tc=2.269185$.\n"
   ]
  },
  {
   "cell_type": "code",
   "execution_count": 141,
   "metadata": {
    "collapsed": true
   },
   "outputs": [],
   "source": [
    "# OBTIENE LA TEMPERATURA DE CURIE\n",
    "TC=[]\n",
    "#2*2\n",
    "indice=cv2.argmax(axis=0)\n",
    "tc=T[indice]\n",
    "TC.append(tc)\n",
    "#3*3\n",
    "indice=cv3.argmax(axis=0)\n",
    "tc=T[indice]\n",
    "TC.append(tc)\n",
    "#4*4\n",
    "indice=cv4.argmax(axis=0)\n",
    "tc=T[indice]\n",
    "TC.append(tc)\n",
    "#5*5\n",
    "indice=cv5.argmax(axis=0)\n",
    "tc=T[indice]\n",
    "TC.append(tc)\n"
   ]
  },
  {
   "cell_type": "code",
   "execution_count": 144,
   "metadata": {},
   "outputs": [
    {
     "data": {
      "text/plain": [
       "<matplotlib.legend.Legend at 0x7fdb84463350>"
      ]
     },
     "execution_count": 144,
     "metadata": {},
     "output_type": "execute_result"
    },
    {
     "data": {
      "image/png": "[encoded data removed]",
      "text/plain": [
       "<matplotlib.figure.Figure at 0x7fdb83cb81d0>"
      ]
     },
     "metadata": {},
     "output_type": "display_data"
    }
   ],
   "source": [
    "# GRAFICA TEMPERATURA DE CURIE VS TAMAÑO DEL SISTEMA\n",
    "L=[2,3,4,5]\n",
    "matplotlib.rcParams['figure.figsize'] = [14, 10]\n",
    "matplotlib.rc('xtick', labelsize=16) \n",
    "matplotlib.rc('ytick', labelsize=16)\n",
    "plt.xlabel(\"Temperatura\",fontsize=18)\n",
    "plt.ylabel(\"Calor especifico\",fontsize=18)\n",
    "plt.plot(L,TC,label=r\"L vs T_C\")\n",
    "xlim(0,7)\n",
    "plt.legend(fontsize=18)\n",
    "\n"
   ]
  },
  {
   "cell_type": "markdown",
   "metadata": {},
   "source": [
    "## Estimación de tiempo computacional y memoria necesaria\n",
    "\n",
    "En nuestros programas ademas de guardar la densidad de estados hemos calculado el tiempo de cómputo necesario para cada tamaño de sistema. Con estos valores hemos ajustado una línea de tendencia exponencial para calcular cuánto llevaria ejecutar el cálculo para un sistema 6X6 y 8X8. En el primer caso segun nuestra estimación son aproximadamente 2.7 días mientras que en el caso 8X8 serían 80 años. Esto demuestra que el cálculo de la temperatura de curie por el método del conteo de microestados completo es muy ineficiente y poco práctico.\n",
    "\n",
    "Además queremos hacer un comentario acerca de la cantidad de memoria necesaria para manejar el problema. Si usaramos C++ que es un poco mas eficiente en el manejo de memoria para el caso 6X6 necesitariamos calcular $2^{36}$ configuraciones y cada una de ellas esta compuesta de un vector de 36 enteros. C++ utiliza 32 de memoria por entero por tanto la cantidad de memoria RAM necesaria para resolver el problema es:\n",
    "\n",
    "$2^{36}*36*32 bits=9216 GB $\n",
    "\n",
    "Una cantidad muy poco practica.\n",
    "\n",
    "<img src=\"imagen1.png\",width=700,height=710>"
   ]
  },
  {
   "cell_type": "code",
   "execution_count": null,
   "metadata": {
    "collapsed": true
   },
   "outputs": [],
   "source": [
    "archivo=open(\"Energias22.txt\",\"r\")\n",
    "datos=archivo.readlines()\n",
    "densidad=datos[1]"
   ]
  },
  {
   "cell_type": "code",
   "execution_count": null,
   "metadata": {
    "collapsed": true
   },
   "outputs": [],
   "source": []
  },
  {
   "cell_type": "code",
   "execution_count": null,
   "metadata": {
    "collapsed": true
   },
   "outputs": [],
   "source": []
  },
  {
   "cell_type": "code",
   "execution_count": null,
   "metadata": {
    "collapsed": true
   },
   "outputs": [],
   "source": []
  }
 ],
 "metadata": {
  "kernelspec": {
   "display_name": "Python 2",
   "language": "python",
   "name": "python2"
  },
  "language_info": {
   "codemirror_mode": {
    "name": "ipython",
    "version": 2
   },
   "file_extension": ".py",
   "mimetype": "text/x-python",
   "name": "python",
   "nbconvert_exporter": "python",
   "pygments_lexer": "ipython2",
   "version": "2.7.12"
  }
 },
 "nbformat": 4,
 "nbformat_minor": 2
}
