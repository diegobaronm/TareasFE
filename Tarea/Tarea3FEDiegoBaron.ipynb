{
 "cells": [
  {
   "cell_type": "code",
   "execution_count": 1,
   "metadata": {
    "collapsed": true
   },
   "outputs": [],
   "source": [
    "import numpy as np"
   ]
  },
  {
   "cell_type": "code",
   "execution_count": 2,
   "metadata": {
    "collapsed": true
   },
   "outputs": [],
   "source": [
    "def next_permutation(seq, pred=cmp):\n",
    "    \"\"\"Like C++ std::next_permutation() but implemented as\n",
    "    generator. Yields copies of seq.\"\"\"\n",
    "    def reverse(seq, start, end):\n",
    "        # seq = seq[:start] + reversed(seq[start:end]) + \\\n",
    "        #       seq[end:]\n",
    "        end -= 1\n",
    "        if end <= start:\n",
    "            return\n",
    "        while True:\n",
    "            seq[start], seq[end] = seq[end], seq[start]\n",
    "            if start == end or start+1 == end:\n",
    "                return\n",
    "            start += 1\n",
    "            end -= 1\n",
    "    if not seq:\n",
    "        raise StopIteration\n",
    "    try:\n",
    "        seq[0]\n",
    "    except TypeError:\n",
    "        raise TypeError(\"seq must allow random access.\")\n",
    "    first = 0\n",
    "    last = len(seq)\n",
    "    seq = seq[:]\n",
    "    # Yield input sequence as the STL version is often\n",
    "    # used inside do {} while.\n",
    "    yield seq[:]\n",
    "    if last == 1:\n",
    "        raise StopIteration\n",
    "    while True:\n",
    "        next = last - 1\n",
    "        while True:\n",
    "            # Step 1.\n",
    "            next1 = next\n",
    "            next -= 1\n",
    "            if pred(seq[next], seq[next1]) < 0:\n",
    "                # Step 2.\n",
    "                mid = last - 1\n",
    "                while not (pred(seq[next], seq[mid]) < 0):\n",
    "                    mid -= 1\n",
    "                seq[next], seq[mid] = seq[mid], seq[next]\n",
    "                # Step 3.\n",
    "                reverse(seq, next1, last)\n",
    "                # Change to yield references to get rid of\n",
    "                # (at worst) |seq|! copy operations.\n",
    "                yield seq[:]\n",
    "                break\n",
    "            if next == first:\n",
    "                raise StopIteration\n",
    "    raise StopIteration"
   ]
  },
  {
   "cell_type": "code",
   "execution_count": 22,
   "metadata": {},
   "outputs": [
    {
     "data": {
      "text/plain": [
       "4"
      ]
     },
     "execution_count": 22,
     "metadata": {},
     "output_type": "execute_result"
    }
   ],
   "source": [
    "len(list(next_permutation([-1,-1,-1,1])))"
   ]
  },
  {
   "cell_type": "code",
   "execution_count": 38,
   "metadata": {},
   "outputs": [],
   "source": [
    "# GENERADOR DE MICROESTADOS RED N=L*L\n",
    "\n",
    "\n",
    "def microestados(L): # ESTA FUNCION SOLO DEPENDE DEL TAMAÑO DEL LADO DE LA RED\n",
    "    \n",
    "    N=L*L #NUMERO DE SPINES EN RED\n",
    "    micro=[]\n",
    "    for i in range(0,N+1): # CREA LAS PERMUTACIONES CON REPETICION DE ESTADOS ARRIBA Y ABAJO\n",
    "        micro=micro+list(next_permutation([-1]*i+[1]*(N-i)))\n",
    "        micro\n",
    "    c=0\n",
    "    for i in micro:\n",
    "        micro[c]=np.reshape(i,(L,L))\n",
    "        c+=1\n",
    " \n",
    "    return micro # RETORNA UN VECTOR CON LOS MICROESTADOS\n"
   ]
  },
  {
   "cell_type": "code",
   "execution_count": 39,
   "metadata": {},
   "outputs": [
    {
     "data": {
      "text/plain": [
       "[array([[1, 1],\n",
       "        [1, 1]]), array([[-1,  1],\n",
       "        [ 1,  1]]), array([[ 1, -1],\n",
       "        [ 1,  1]]), array([[ 1,  1],\n",
       "        [-1,  1]]), array([[ 1,  1],\n",
       "        [ 1, -1]]), array([[-1, -1],\n",
       "        [ 1,  1]]), array([[-1,  1],\n",
       "        [-1,  1]]), array([[-1,  1],\n",
       "        [ 1, -1]]), array([[ 1, -1],\n",
       "        [-1,  1]]), array([[ 1, -1],\n",
       "        [ 1, -1]]), array([[ 1,  1],\n",
       "        [-1, -1]]), array([[-1, -1],\n",
       "        [-1,  1]]), array([[-1, -1],\n",
       "        [ 1, -1]]), array([[-1,  1],\n",
       "        [-1, -1]]), array([[ 1, -1],\n",
       "        [-1, -1]]), array([[-1, -1],\n",
       "        [-1, -1]])]"
      ]
     },
     "execution_count": 39,
     "metadata": {},
     "output_type": "execute_result"
    }
   ],
   "source": [
    "microestados(2)"
   ]
  },
  {
   "cell_type": "code",
   "execution_count": 40,
   "metadata": {},
   "outputs": [],
   "source": [
    "def Energias(microestados,L):\n",
    "    Energias=[]\n",
    "    for micro in microestados:\n",
    "        Energia=0\n",
    "        for i in range(L):\n",
    "            for j in range(L):\n",
    "                arriba=i-1\n",
    "                abajo=i+1\n",
    "                der=j+1\n",
    "                izq=j-1\n",
    "                if arriba<0:\n",
    "                    arriba=-1\n",
    "                if abajo>L-1:\n",
    "                    abajo=0\n",
    "                if der>L-1:\n",
    "                    der=0\n",
    "                if izq<0:\n",
    "                    izq=-1\n",
    "                Energia=Energia-micro[i][j]*micro[arriba][j]-micro[i][j]*micro[abajo][j]-micro[i][j]*micro[i][der]-micro[i][j]*micro[i][izq]\n",
    "        Energia=Energia/2 # LA FUNCION ANTERIOR CUENTA DOS VECES CADA INTERACCION\n",
    "        Energias.append(Energia)\n",
    "    return Energias\n",
    "\n",
    "def DensidadEstado(Energias):\n",
    "    EnergiasSR=[]\n",
    "    Omega=[]\n",
    "    for i in Energias:\n",
    "        if i not in EnergiasSR:\n",
    "            EnergiasSR.append(i)\n",
    "    for j in EnergiasSR:\n",
    "        c=0\n",
    "        for k in Energias:\n",
    "            if k==j:\n",
    "                c+=1\n",
    "        Omega.append(c)\n",
    "    Densidad=[]\n",
    "    for m in range(len(EnergiasSR)):\n",
    "        Densidad.append([EnergiasSR[m],Omega[m]])\n",
    "    return Densidad"
   ]
  },
  {
   "cell_type": "code",
   "execution_count": 41,
   "metadata": {},
   "outputs": [
    {
     "data": {
      "text/plain": [
       "[[-18, 2], [-10, 18], [-6, 48], [-2, 198], [2, 144], [6, 102]]"
      ]
     },
     "execution_count": 41,
     "metadata": {},
     "output_type": "execute_result"
    }
   ],
   "source": [
    "microestados33=microestados(3)\n",
    "E33=Energias(microestados33,3)\n",
    "DensidadEstado(E33)"
   ]
  },
  {
   "cell_type": "code",
   "execution_count": 42,
   "metadata": {},
   "outputs": [
    {
     "data": {
      "text/plain": [
       "[[-8, 2], [0, 12], [8, 2]]"
      ]
     },
     "execution_count": 42,
     "metadata": {},
     "output_type": "execute_result"
    }
   ],
   "source": [
    "microestados22=microestados(2)\n",
    "E22=Energias(microestados22,2)\n",
    "DensidadEstado(E22)"
   ]
  },
  {
   "cell_type": "code",
   "execution_count": 43,
   "metadata": {},
   "outputs": [
    {
     "data": {
      "text/plain": [
       "[[-32, 2],\n",
       " [-24, 32],\n",
       " [-20, 64],\n",
       " [-16, 424],\n",
       " [-12, 1728],\n",
       " [-8, 6688],\n",
       " [-4, 13568],\n",
       " [0, 20524],\n",
       " [4, 13568],\n",
       " [8, 6688],\n",
       " [12, 1728],\n",
       " [16, 424],\n",
       " [24, 32],\n",
       " [20, 64],\n",
       " [32, 2]]"
      ]
     },
     "execution_count": 43,
     "metadata": {},
     "output_type": "execute_result"
    }
   ],
   "source": [
    "microestados44=microestados(4)\n",
    "E44=Energias(microestados44,4)\n",
    "DensidadEstado(E44)"
   ]
  },
  {
   "cell_type": "code",
   "execution_count": null,
   "metadata": {
    "collapsed": true
   },
   "outputs": [],
   "source": [
    "microestados66=microestados(6)\n",
    "E66=Energias(microestados66,6)\n",
    "DensidadEstado(E66)"
   ]
  },
  {
   "cell_type": "code",
   "execution_count": null,
   "metadata": {},
   "outputs": [],
   "source": [
    "\n"
   ]
  },
  {
   "cell_type": "code",
   "execution_count": null,
   "metadata": {},
   "outputs": [],
   "source": []
  },
  {
   "cell_type": "code",
   "execution_count": null,
   "metadata": {
    "collapsed": true
   },
   "outputs": [],
   "source": []
  }
 ],
 "metadata": {
  "kernelspec": {
   "display_name": "Python 2",
   "language": "python",
   "name": "python2"
  },
  "language_info": {
   "codemirror_mode": {
    "name": "ipython",
    "version": 2
   },
   "file_extension": ".py",
   "mimetype": "text/x-python",
   "name": "python",
   "nbconvert_exporter": "python",
   "pygments_lexer": "ipython2",
   "version": "2.7.12"
  }
 },
 "nbformat": 4,
 "nbformat_minor": 2
}
