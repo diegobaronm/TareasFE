{
 "cells": [
  {
   "cell_type": "code",
   "execution_count": 23,
   "metadata": {},
   "outputs": [
    {
     "name": "stdout",
     "output_type": "stream",
     "text": [
      "-1.82784\n",
      "-1.76416\n",
      "-1.75016576\n",
      "-1.753414592\n",
      "-1.7499913792\n"
     ]
    }
   ],
   "source": [
    "import numpy as np # IMPORTA LAS LIBRERIAS NUMPY Y RANDOM PARA GENERAR NUMEROS ALEATORIOS\n",
    "import random\n",
    "def energy(S,N,nbr): # ESTA RUTINA CALCULA LAS ENERGIAS DE UN MICROESTADO EN PARTICULAR\n",
    "    E=0.0\n",
    "    for k in range(N):\n",
    "        E-=S[k]*sum(S[nn] for nn in nbr[k])\n",
    "    return 0.5*E\n",
    "\n",
    "\n",
    "def e_prom_mc(Temp,numsteps,L):\n",
    "    N=L*L\n",
    "    nbr={i:((i//L)*L+(i+1)%L,(i+L)%N,(i//L)*L+(i-1)%L,(i-L)%N) for i in range(N)} # MEDIANTE UN DICCIONARIO SE DEFINEN LA\n",
    "    # CONDICIONES DE FRONTERA PERIODICAS\n",
    "    T=Temp\n",
    "    S=[random.choice([1,-1]) for k in range(N)] # DEFINE UN MICROESTADO INICIAL ALEATORIO\n",
    "    nsteps=N*numsteps # SE DEFINEN EL NUMERO DE VECES QUE SE VAN A CAMBIAR LOS ESPINES ALEATORIAMENTE\n",
    "    beta=1/T # DEFINICION DE BETA \n",
    "    Energy=energy(S,N,nbr)\n",
    "    E=[]\n",
    "    for step in xrange(nsteps):\n",
    "        k=random.randint(0,N-1)\n",
    "        delta_E=2.0*S[k]*sum(S[nn] for nn in nbr[k])\n",
    "        if random.uniform(0.0,1.0)<np.exp(-beta*delta_E): # SE ACEPTA UNA CONFIGURACION CON PROBABILIDAD METROPOLIS\n",
    "            S[k]*=-1 # CAMBIA EL ESPIN\n",
    "            Energy+=delta_E\n",
    "        E.append(Energy)\n",
    "    return sum(E)/float(len(E)*N) # CALCULA LA ENERGIA PROMEDIO POR PARTICULA\n",
    "\n",
    "# 100*N PASOS\n",
    "print e_prom_mc(2.0,100,5)\n",
    "# 1000*N PASOS\n",
    "print e_prom_mc(2.0,1000,5)\n",
    "# 10000*N PASOS\n",
    "print e_prom_mc(2.0,10000,5)\n",
    "# 100000*N PASOS\n",
    "print e_prom_mc(2.0,100000,5)\n",
    "# 1000000*N PASOS\n",
    "print e_prom_mc(2.0,1000000,5)"
   ]
  },
  {
   "cell_type": "code",
   "execution_count": 18,
   "metadata": {},
   "outputs": [
    {
     "data": {
      "text/plain": [
       "-1.690496"
      ]
     },
     "execution_count": 18,
     "metadata": {},
     "output_type": "execute_result"
    }
   ],
   "source": [
    "# 100*N PASOS\n",
    "print e_prom_mc(2.0,100,5)"
   ]
  },
  {
   "cell_type": "code",
   "execution_count": 19,
   "metadata": {},
   "outputs": [
    {
     "data": {
      "text/plain": [
       "-1.7609536"
      ]
     },
     "execution_count": 19,
     "metadata": {},
     "output_type": "execute_result"
    }
   ],
   "source": [
    "# 1000*N PASOS\n",
    "print e_prom_mc(2.0,1000,5)"
   ]
  },
  {
   "cell_type": "code",
   "execution_count": 20,
   "metadata": {},
   "outputs": [
    {
     "data": {
      "text/plain": [
       "-1.75241344"
      ]
     },
     "execution_count": 20,
     "metadata": {},
     "output_type": "execute_result"
    }
   ],
   "source": [
    "# 10000*N PASOS\n",
    "print e_prom_mc(2.0,10000,5)"
   ]
  },
  {
   "cell_type": "code",
   "execution_count": 21,
   "metadata": {},
   "outputs": [
    {
     "data": {
      "text/plain": [
       "-1.748347072"
      ]
     },
     "execution_count": 21,
     "metadata": {},
     "output_type": "execute_result"
    }
   ],
   "source": [
    "# 100000*N PASOS\n",
    "print e_prom_mc(2.0,100000,5)"
   ]
  },
  {
   "cell_type": "code",
   "execution_count": 22,
   "metadata": {},
   "outputs": [
    {
     "data": {
      "text/plain": [
       "-1.751737152"
      ]
     },
     "execution_count": 22,
     "metadata": {},
     "output_type": "execute_result"
    }
   ],
   "source": [
    "# 1000000*N PASOS\n",
    "print e_prom_mc(2.0,1000000,5)"
   ]
  },
  {
   "cell_type": "code",
   "execution_count": null,
   "metadata": {},
   "outputs": [],
   "source": []
  }
 ],
 "metadata": {
  "kernelspec": {
   "display_name": "Python 2",
   "language": "python",
   "name": "python2"
  },
  "language_info": {
   "codemirror_mode": {
    "name": "ipython",
    "version": 2
   },
   "file_extension": ".py",
   "mimetype": "text/x-python",
   "name": "python",
   "nbconvert_exporter": "python",
   "pygments_lexer": "ipython2",
   "version": "2.7.12"
  }
 },
 "nbformat": 4,
 "nbformat_minor": 2
}
