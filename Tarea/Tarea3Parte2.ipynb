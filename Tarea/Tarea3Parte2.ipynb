{
 "cells": [
  {
   "cell_type": "code",
   "execution_count": 11,
   "metadata": {},
   "outputs": [
    {
     "name": "stdout",
     "output_type": "stream",
     "text": [
      "mean energy per spin:  -1.752565248\n"
     ]
    }
   ],
   "source": [
    "import numpy as np\n",
    "import random\n",
    "def energy(S,N,nbr):\n",
    "    E=0.0\n",
    "    for k in range(N):\n",
    "        E-=S[k]*sum(S[nn] for nn in nbr[k])\n",
    "    return 0.5*E\n",
    "\n",
    "L=5\n",
    "N=L*L\n",
    "nbr={i:((i//L)*L+(i+1)%L,(i+L)%N,(i//L)*L+(i-1)%L,(i-L)%N) for i in range(N)}\n",
    "\n",
    "T=2.0\n",
    "S=[random.choice([1,-1]) for k in range(N)]\n",
    "nsteps=N*100000\n",
    "beta=1/T\n",
    "Energy=energy(S,N,nbr)\n",
    "E=[]\n",
    "for step in xrange(nsteps):\n",
    "    k=random.randint(0,N-1)\n",
    "    delta_E=2.0*S[k]*sum(S[nn] for nn in nbr[k])\n",
    "    if random.uniform(0.0,1.0)<np.exp(-beta*delta_E):\n",
    "        S[k]*=-1\n",
    "        Energy+=delta_E\n",
    "    E.append(Energy)\n",
    "print \"mean energy per spin: \", sum(E)/float(len(E)*N)"
   ]
  },
  {
   "cell_type": "code",
   "execution_count": null,
   "metadata": {
    "collapsed": true
   },
   "outputs": [],
   "source": []
  },
  {
   "cell_type": "code",
   "execution_count": null,
   "metadata": {
    "collapsed": true
   },
   "outputs": [],
   "source": []
  }
 ],
 "metadata": {
  "kernelspec": {
   "display_name": "Python 2",
   "language": "python",
   "name": "python2"
  },
  "language_info": {
   "codemirror_mode": {
    "name": "ipython",
    "version": 2
   },
   "file_extension": ".py",
   "mimetype": "text/x-python",
   "name": "python",
   "nbconvert_exporter": "python",
   "pygments_lexer": "ipython2",
   "version": "2.7.12"
  }
 },
 "nbformat": 4,
 "nbformat_minor": 2
}
